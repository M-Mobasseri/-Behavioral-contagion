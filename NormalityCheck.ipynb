{
 "cells": [
  {
   "cell_type": "code",
   "execution_count": null,
   "metadata": {},
   "outputs": [],
   "source": [
    "import pandas as pd\n",
    "from scipy.stats import shapiro\n",
    "\n",
    "# Load the Excel file and extract parameter neg1 data\n",
    "data = pd.read_excel('G:/NoContagionList.xlsx', sheet_name='Sheet1', usecols=['Imbalanced1'])\n",
    "parameter_neg1 = data['Imbalanced1'].dropna()\n",
    "\n",
    "# Perform Shapiro-Wilk test for normality\n",
    "statistic, p_value = shapiro(parameter_neg1)\n",
    "\n",
    "# Display the test results\n",
    "print('Shapiro-Wilk Test Results:')\n",
    "print(f'H0: Data is normally distributed - p-value: {p_value}')\n",
    "print(f'Test Statistic W: {statistic}')\n",
    "if p_value < 0.05:\n",
    "    print('Reject H0: Data is not normally distributed')\n",
    "else:\n",
    "    print('Fail to reject H0: Data is normally distributed')"
   ]
  }
 ],
 "metadata": {
  "kernelspec": {
   "display_name": "Python 3",
   "language": "python",
   "name": "python3"
  },
  "language_info": {
   "codemirror_mode": {
    "name": "ipython",
    "version": 3
   },
   "file_extension": ".py",
   "mimetype": "text/x-python",
   "name": "python",
   "nbconvert_exporter": "python",
   "pygments_lexer": "ipython3",
   "version": "3.7.4"
  }
 },
 "nbformat": 4,
 "nbformat_minor": 2
}
