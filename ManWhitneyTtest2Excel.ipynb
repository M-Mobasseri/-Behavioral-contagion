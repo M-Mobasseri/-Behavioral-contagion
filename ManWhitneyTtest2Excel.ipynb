{
 "cells": [
  {
   "cell_type": "code",
   "execution_count": 12,
   "metadata": {},
   "outputs": [
    {
     "name": "stdout",
     "output_type": "stream",
     "text": [
      "Test Results:\n",
      "-------------\n",
      "Sample Size: 17\n",
      "Test Type: Mann-Whitney U test\n",
      "Significance level (alpha): 0.05\n",
      "At least one column is not normally distributed.\n",
      "There is no significant difference between the columns (fail to reject H0).\n",
      "p-value: 0.1631\n"
     ]
    }
   ],
   "source": [
    "import pandas as pd\n",
    "from scipy.stats import shapiro, ttest_ind, mannwhitneyu\n",
    "\n",
    "# Specify the file paths for the two Excel files\n",
    "file_path1 = 'G:/BalanceResults(Latest).xlsx'\n",
    "file_path2 = 'G:/NoContagionList.xlsx'\n",
    "\n",
    "# Read the data from columns A1 and A2 of the first Excel file\n",
    "df1 = pd.read_excel(file_path1, usecols=['BalanceEnergy1'])\n",
    "\n",
    "# Read the data from column A2 of the second Excel file\n",
    "df2 = pd.read_excel(file_path2, usecols=['BalanceEnergy1'])\n",
    "\n",
    "# Perform Shapiro-Wilk test for normality on each column\n",
    "alpha = 0.05  # Significance level\n",
    "normality = [True, True]  # Initialize normality flag for each column\n",
    "\n",
    "for i, df in enumerate([df1, df2]):\n",
    "    stat, p = shapiro(df.iloc[:, 0])\n",
    "    if p < alpha:\n",
    "        normality[i] = False\n",
    "\n",
    "# Perform statistical test based on normality\n",
    "if all(normality):\n",
    "    # Both columns are normally distributed, perform t-test\n",
    "    stat, p = ttest_ind(df1.iloc[:, 0], df2.iloc[:, 0])\n",
    "    test_type = 'ttest2'\n",
    "else:\n",
    "    # At least one column is not normally distributed, perform Mann-Whitney U test\n",
    "    stat, p = mannwhitneyu(df1.iloc[:, 0], df2.iloc[:, 0], alternative='two-sided')\n",
    "    test_type = 'Mann-Whitney U test'\n",
    "\n",
    "# Display the test results\n",
    "print('Test Results:')\n",
    "print('-------------')\n",
    "print(f'Sample Size: {df1.shape[0]}')\n",
    "print(f'Test Type: {test_type}')\n",
    "print(f'Significance level (alpha): {alpha:.2f}')\n",
    "\n",
    "if all(normality):\n",
    "    print('Both columns are normally distributed.')\n",
    "else:\n",
    "    print('At least one column is not normally distributed.')\n",
    "\n",
    "if p < alpha:\n",
    "    print('There is a significant difference between the columns (reject H0).')\n",
    "else:\n",
    "    print('There is no significant difference between the columns (fail to reject H0).')\n",
    "\n",
    "print(f'p-value: {p:.4f}')\n"
   ]
  },
  {
   "cell_type": "code",
   "execution_count": null,
   "metadata": {},
   "outputs": [],
   "source": []
  },
  {
   "cell_type": "code",
   "execution_count": null,
   "metadata": {},
   "outputs": [],
   "source": []
  }
 ],
 "metadata": {
  "kernelspec": {
   "display_name": "Python 3",
   "language": "python",
   "name": "python3"
  },
  "language_info": {
   "codemirror_mode": {
    "name": "ipython",
    "version": 3
   },
   "file_extension": ".py",
   "mimetype": "text/x-python",
   "name": "python",
   "nbconvert_exporter": "python",
   "pygments_lexer": "ipython3",
   "version": "3.7.4"
  }
 },
 "nbformat": 4,
 "nbformat_minor": 2
}
