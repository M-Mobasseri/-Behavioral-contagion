{
 "cells": [
  {
   "cell_type": "code",
   "execution_count": 4,
   "metadata": {},
   "outputs": [
    {
     "name": "stdout",
     "output_type": "stream",
     "text": [
      "Results of Two-sample t-test:\n",
      "Null Hypothesis: The means of the two samples are equal.\n",
      "Alternative Hypothesis: The means of the two samples are not equal.\n",
      "t-statistic: -1.2205662463880218\n",
      "p-value: 0.2335561895270155\n",
      "Since p-value >= alpha, we fail to reject the null hypothesis.\n",
      "There is not enough evidence to conclude that the means of the two samples are different.\n"
     ]
    }
   ],
   "source": [
    "import pandas as pd\n",
    "from scipy.stats import ttest_ind\n",
    "\n",
    "# Load data from Excel files\n",
    "file1_path = 'G:/BalanceResults(Latest).xlsx'\n",
    "file2_path = 'G:/NoContagionList.xlsx'\n",
    "\n",
    "data1 = pd.read_excel(file1_path, sheet_name='Sheet1')  # Update the sheet name if needed\n",
    "data2 = pd.read_eimportxcel(file2_path)\n",
    "\n",
    "# Assuming 'A' is the column name in 'BalanceResults(Latest).xlsx' and 'A' is the matched pair in 'NoContagionList.xlsx'\n",
    "column_A1 = data1['BalanceEnergy2']\n",
    "column_A2 = data2['BalanceEnergy2']\n",
    "\n",
    "# Perform t-test\n",
    "t_stat, p_value = ttest_ind(column_A1, column_A2, equal_var=False)  # Assuming unequal variances\n",
    "\n",
    "# Print results with suitable messages\n",
    "print(\"Results of Two-sample t-test:\")\n",
    "print(\"Null Hypothesis: The means of the two samples are equal.\")\n",
    "print(\"Alternative Hypothesis: The means of the two samples are not equal.\")\n",
    "print(\"t-statistic:\", t_stat)\n",
    "print(\"p-value:\", p_value)\n",
    "\n",
    "# Interpret p-value\n",
    "alpha = 0.05\n",
    "if p_value < alpha:\n",
    "    print(\"Since p-value < alpha, we reject the null hypothesis.\")\n",
    "    print(\"There is sufficient evidence to conclude that the means of the two samples are different.\")\n",
    "else:\n",
    "    print(\"Since p-value >= alpha, we fail to reject the null hypothesis.\")\n",
    "    print(\"There is not enough evidence to conclude that the means of the two samples are different.\")\n",
    "\n"
   ]
  },
  {
   "cell_type": "code",
   "execution_count": null,
   "metadata": {},
   "outputs": [],
   "source": []
  },
  {
   "cell_type": "code",
   "execution_count": null,
   "metadata": {},
   "outputs": [],
   "source": []
  }
 ],
 "metadata": {
  "kernelspec": {
   "display_name": "Python 3",
   "language": "python",
   "name": "python3"
  },
  "language_info": {
   "codemirror_mode": {
    "name": "ipython",
    "version": 3
   },
   "file_extension": ".py",
   "mimetype": "text/x-python",
   "name": "python",
   "nbconvert_exporter": "python",
   "pygments_lexer": "ipython3",
   "version": "3.7.4"
  }
 },
 "nbformat": 4,
 "nbformat_minor": 2
}
