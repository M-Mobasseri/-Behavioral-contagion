{
 "cells": [
  {
   "cell_type": "code",
   "execution_count": 5,
   "metadata": {},
   "outputs": [
    {
     "name": "stdout",
     "output_type": "stream",
     "text": [
      "Mann-Whitney U test results:\n",
      "Statistic: 141.0\n",
      "p-value: 0.4588502967587039\n",
      "There is no significant difference between T5 and T6.\n"
     ]
    }
   ],
   "source": [
    "import pandas as pd\n",
    "from scipy.stats import mannwhitneyu\n",
    "\n",
    "# Load the Excel file\n",
    "data = pd.read_excel('G:/BalanceResults(Latest).xlsx')\n",
    "\n",
    "# Extract columns A and B\n",
    "column_A = data['neg1']\n",
    "column_B = data['neg2']\n",
    "\n",
    "# Perform Mann-Whitney U test\n",
    "statistic, p_value = mannwhitneyu(column_A, column_B)\n",
    "\n",
    "# Print the results\n",
    "print(\"Mann-Whitney U test results:\")\n",
    "print(\"Statistic:\", statistic)\n",
    "print(\"p-value:\", p_value)\n",
    "if p_value < 0.05:\n",
    "    print(\"There is a significant difference between A and B.\")\n",
    "else:\n",
    "    print(\"There is no significant difference between A and B.\")\n"
   ]
  },
  {
   "cell_type": "code",
   "execution_count": null,
   "metadata": {},
   "outputs": [],
   "source": []
  },
  {
   "cell_type": "code",
   "execution_count": null,
   "metadata": {},
   "outputs": [],
   "source": []
  }
 ],
 "metadata": {
  "kernelspec": {
   "display_name": "Python 3",
   "language": "python",
   "name": "python3"
  },
  "language_info": {
   "codemirror_mode": {
    "name": "ipython",
    "version": 3
   },
   "file_extension": ".py",
   "mimetype": "text/x-python",
   "name": "python",
   "nbconvert_exporter": "python",
   "pygments_lexer": "ipython3",
   "version": "3.7.4"
  }
 },
 "nbformat": 4,
 "nbformat_minor": 2
}
